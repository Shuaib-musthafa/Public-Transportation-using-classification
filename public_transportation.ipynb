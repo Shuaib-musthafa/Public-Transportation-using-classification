{
 "cells": [
  {
   "cell_type": "markdown",
   "metadata": {
    "vscode": {
     "languageId": "plaintext"
    }
   },
   "source": [
    "Classify public transport schedule time slots into demand levels"
   ]
  },
  {
   "cell_type": "code",
   "execution_count": 9,
   "metadata": {},
   "outputs": [],
   "source": [
    "import pandas as pd\n",
    "import numpy as np\n",
    "\n",
    "# Simulated Dataset\n",
    "data = {\n",
    "    \"time_slot\": [\"6AM-7AM\", \"7AM-8AM\", \"8AM-9AM\", \"9AM-10AM\", \"10AM-11AM\"],\n",
    "    \"weekday\": [1, 1, 1, 0, 0],  # 1 for weekday, 0 for weekend\n",
    "    \"weather\": [0, 1, 0, 1, 0],  # 0 for clear, 1 for rainy\n",
    "    \"passenger_count\": [20, 50, 80, 30, 25],\n",
    "    \"demand_level\": [\"Low\", \"High\", \"High\", \"Medium\", \"Low\"]  # Target variable\n",
    "}\n",
    "\n",
    "df = pd.DataFrame(data)\n",
    "\n",
    "# Encode categorical target variable\n",
    "df[\"demand_level\"] = df[\"demand_level\"].map({\"Low\": 0, \"Medium\": 1, \"High\": 2})\n",
    "\n",
    "# Prepare features (X) and target (y)\n",
    "X = df[[\"weekday\", \"weather\", \"passenger_count\"]].values\n",
    "y = df[\"demand_level\"].values\n",
    "\n",
    "\n"
   ]
  },
  {
   "cell_type": "code",
   "execution_count": 10,
   "metadata": {},
   "outputs": [],
   "source": [
    "def standardize(X):\n",
    "    mean = np.mean(X, axis=0)\n",
    "    std = np.std(X, axis=0)\n",
    "    X_scaled = (X - mean) / std\n",
    "    return X_scaled, mean, std\n",
    "\n",
    "X_scaled, X_mean, X_std = standardize(X)\n",
    "\n",
    "# Define the softmax function\n",
    "def softmax(z):\n",
    "    exp_z = np.exp(z - np.max(z, axis=1, keepdims=True))\n",
    "    return exp_z / np.sum(exp_z, axis=1, keepdims=True)\n",
    "\n",
    "# Define the logistic regression training function\n",
    "def logistic_regression(X, y, num_classes, learning_rate=0.01, epochs=1000):\n",
    "    m, n = X.shape\n",
    "    weights = np.zeros((n, num_classes))  # Initialize weights\n",
    "    bias = np.zeros(num_classes)  # Initialize bias\n",
    "    \n",
    "    # One-hot encode target labels\n",
    "    y_one_hot = np.zeros((m, num_classes))\n",
    "    y_one_hot[np.arange(m), y] = 1\n",
    "    \n",
    "    # Gradient descent loop\n",
    "    for _ in range(epochs):\n",
    "        z = np.dot(X, weights) + bias\n",
    "        y_pred = softmax(z)\n",
    "        \n",
    "        dw = (1/m) * np.dot(X.T, (y_pred - y_one_hot))\n",
    "        db = (1/m) * np.sum(y_pred - y_one_hot, axis=0)\n",
    "        \n",
    "        weights -= learning_rate * dw\n",
    "        bias -= learning_rate * db\n",
    "    \n",
    "    return weights, bias"
   ]
  },
  {
   "cell_type": "code",
   "execution_count": 11,
   "metadata": {},
   "outputs": [],
   "source": [
    "\n",
    "# Train the model\n",
    "num_classes = len(np.unique(y))\n",
    "weights, bias = logistic_regression(X_scaled, y, num_classes)"
   ]
  },
  {
   "cell_type": "code",
   "execution_count": 14,
   "metadata": {},
   "outputs": [
    {
     "name": "stdout",
     "output_type": "stream",
     "text": [
      "Model and scaler saved successfully.\n",
      "Model and scaler loaded successfully.\n"
     ]
    }
   ],
   "source": [
    "import pickle\n",
    "# Save the model and scaler\n",
    "with open(\"logistic_regression_model.pkl\", \"wb\") as f:\n",
    "    pickle.dump((weights, bias, X_mean, X_std), f)\n",
    "print(\"Model and scaler saved successfully.\")\n",
    "# Load the model and scaler\n",
    "with open(\"logistic_regression_model.pkl\", \"rb\") as f:\n",
    "    weights, bias, X_mean, X_std = pickle.load(f)\n",
    "\n",
    "print(\"Model and scaler loaded successfully.\")\n",
    "    "
   ]
  },
  {
   "cell_type": "code",
   "execution_count": 15,
   "metadata": {},
   "outputs": [],
   "source": [
    "\n",
    "# Function to make predictions\n",
    "def predict(X, weights, bias):\n",
    "    X_scaled = (X - X_mean) / X_std  # Standardize input\n",
    "    z = np.dot(X_scaled, weights) + bias\n",
    "    y_pred = softmax(z)\n",
    "    return np.argmax(y_pred, axis=1)"
   ]
  },
  {
   "cell_type": "code",
   "execution_count": 17,
   "metadata": {},
   "outputs": [
    {
     "name": "stdout",
     "output_type": "stream",
     "text": [
      "Predicted Demand Level: Low\n"
     ]
    }
   ],
   "source": [
    "# Get user input\n",
    "weekday = int(input(\"Is it a weekday? (1 for Yes, 0 for No): \"))\n",
    "weather = int(input(\"What is the weather? (1 for Rainy, 0 for Clear): \"))\n",
    "passenger_count = int(input(\"Enter the number of passengers: \"))\n",
    "\n",
    "# Prepare the input for prediction\n",
    "X_input = np.array([[weekday, weather, passenger_count]])\n",
    "\n",
    "# Make prediction\n",
    "predicted_demand = predict(X_input, weights, bias)\n",
    "\n",
    "# Map prediction to demand level\n",
    "demand_map = {0: \"Low\", 1: \"Medium\", 2: \"High\"}\n",
    "print(f\"Predicted Demand Level: {demand_map[predicted_demand[0]]}\")"
   ]
  },
  {
   "cell_type": "code",
   "execution_count": null,
   "metadata": {},
   "outputs": [],
   "source": []
  }
 ],
 "metadata": {
  "kernelspec": {
   "display_name": "Python 3",
   "language": "python",
   "name": "python3"
  },
  "language_info": {
   "codemirror_mode": {
    "name": "ipython",
    "version": 3
   },
   "file_extension": ".py",
   "mimetype": "text/x-python",
   "name": "python",
   "nbconvert_exporter": "python",
   "pygments_lexer": "ipython3",
   "version": "3.12.5"
  }
 },
 "nbformat": 4,
 "nbformat_minor": 2
}
